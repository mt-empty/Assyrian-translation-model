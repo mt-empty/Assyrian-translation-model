{
  "cells": [
    {
      "cell_type": "code",
      "execution_count": null,
      "metadata": {
        "id": "gitMONvW4SAd"
      },
      "outputs": [],
      "source": [
        "import torch\n",
        "from datasets import load_metric\n",
        "from transformers import AutoTokenizer, AutoModelForSeq2SeqLM, pipeline\n"
      ]
    },
    {
      "cell_type": "code",
      "execution_count": null,
      "metadata": {
        "colab": {
          "base_uri": "https://localhost:8080/"
        },
        "id": "XgDFZ7l93Ldr",
        "outputId": "58f7f18f-2906-4d60-b0d9-aee9880a0fc6"
      },
      "outputs": [],
      "source": [
        "\"\"\"\n",
        "This file provides examples on how to use the model\n",
        "\"\"\"\n",
        "\n",
        "device = torch.device(\"cuda\") if torch.cuda.is_available() else torch.device(\"cpu\")\n",
        "\n",
        "tokenizer = AutoTokenizer.from_pretrained(\"mt-empty/english-assyrian\")\n",
        "model = AutoModelForSeq2SeqLM.from_pretrained(\"mt-empty/english-assyrian\")\n",
        "\n",
        "translator = pipeline(\"translation\", model=model, tokenizer=tokenizer, device=0)\n",
        "\n",
        "print(\"Translation examples:\")"
      ]
    },
    {
      "cell_type": "code",
      "execution_count": null,
      "metadata": {
        "colab": {
          "base_uri": "https://localhost:8080/"
        },
        "id": "NbV_jaOq3Qac",
        "outputId": "299daa13-252a-4c35-a3b5-6c4180857962"
      },
      "outputs": [],
      "source": [
        "\n",
        "print(\n",
        "    \"of the Eve of Preparation, of Passion\",\n",
        "    translator(\"of the Eve of Preparation, of Passion\")\n",
        ")\n"
      ]
    },
    {
      "cell_type": "code",
      "execution_count": null,
      "metadata": {
        "colab": {
          "base_uri": "https://localhost:8080/"
        },
        "id": "8H36kD733Q4A",
        "outputId": "832b45fe-2483-4c2a-cea7-eecb9dda5f06"
      },
      "outputs": [],
      "source": [
        "\n",
        "print(\"of the Birth\", translator(\"of the Birth\"))\n"
      ]
    },
    {
      "cell_type": "code",
      "execution_count": null,
      "metadata": {
        "colab": {
          "base_uri": "https://localhost:8080/"
        },
        "id": "OWxikprt3Rds",
        "outputId": "4169bee6-a745-4979-a333-9a9cff963ea1"
      },
      "outputs": [],
      "source": [
        "print(\"I'm working as a smith\", translator(\"I'm working as a smith\"))\n"
      ]
    },
    {
      "cell_type": "code",
      "execution_count": null,
      "metadata": {
        "colab": {
          "base_uri": "https://localhost:8080/"
        },
        "id": "i0NZ2ZZt3SUn",
        "outputId": "48a3d8d5-749c-496f-c710-4564446890b8"
      },
      "outputs": [],
      "source": [
        "print(\"I love you\", translator(\"I love you\"))\n"
      ]
    },
    {
      "cell_type": "code",
      "execution_count": null,
      "metadata": {
        "colab": {
          "base_uri": "https://localhost:8080/"
        },
        "id": "HBoF8RZL3Sxv",
        "outputId": "adef2d80-0ff2-49f6-8456-f3a6cfcc1881"
      },
      "outputs": [],
      "source": [
        "print(\"tomorrow, I will go to the shop\", translator(\"tomorrow, I will go to the shop\"))\n"
      ]
    },
    {
      "cell_type": "code",
      "execution_count": null,
      "metadata": {
        "colab": {
          "base_uri": "https://localhost:8080/"
        },
        "id": "j8nDOb1c3TAT",
        "outputId": "4222f3eb-64e5-455e-95ed-a0000a1afd16"
      },
      "outputs": [],
      "source": [
        "print(\"how are you\", translator(\"how are you\"))\n"
      ]
    },
    {
      "cell_type": "code",
      "execution_count": null,
      "metadata": {
        "colab": {
          "base_uri": "https://localhost:8080/"
        },
        "id": "vNHjitdJ3TMS",
        "outputId": "72aacb84-9dfc-4af8-b719-561d5a568e81"
      },
      "outputs": [],
      "source": [
        "print(\"I'm good\", translator(\"I'm good\"))\n"
      ]
    },
    {
      "cell_type": "code",
      "execution_count": null,
      "metadata": {
        "colab": {
          "base_uri": "https://localhost:8080/"
        },
        "id": "zvqS9hXO3TXI",
        "outputId": "9a547a81-0660-44b1-aa86-5dc669c58c50"
      },
      "outputs": [],
      "source": [
        "print(\"I will see you on Monday\", translator(\"I will see you on Monday\"))\n"
      ]
    },
    {
      "cell_type": "code",
      "execution_count": null,
      "metadata": {
        "colab": {
          "base_uri": "https://localhost:8080/"
        },
        "id": "97bcUNmT3TgU",
        "outputId": "4304da12-a3ef-4a98-9545-3fa6c2c189e3"
      },
      "outputs": [],
      "source": [
        "print(\"home\", translator(\"home\"))\n"
      ]
    },
    {
      "cell_type": "code",
      "execution_count": null,
      "metadata": {
        "colab": {
          "base_uri": "https://localhost:8080/"
        },
        "id": "qxmL0YkW3Tq9",
        "outputId": "67030140-5a28-48b0-cfe0-59940a261dd6"
      },
      "outputs": [],
      "source": [
        "metric = load_metric(\"sacrebleu\")\n",
        "\n",
        "print(\"\\nComputing metric examples:\")\n",
        "\n",
        "predictions = [\"ܚܙܰܝܢܰܢ ܐܰܬ݂ ܪܐ ܚܰܕ̱ܬ݂ ܐ، ܘܡܰ ܪܕܘܬ݂ ܐ ܚܕܰܬ݂ \"]\n",
        "references = [[\"ܡܳ ܝܰܬ݂ ، ܚܙܰܝܢܰܢ ܐܰܬ݂ ܪܐ ܚܰܕ̱ܬ݂ ܐ، ܘܡܰ ܪܕܘܬ݂ ܐ ܚܕܰܬ݂ ܐ\"]]\n",
        "print(metric.compute(predictions=predictions, references=references))\n"
      ]
    },
    {
      "cell_type": "code",
      "execution_count": null,
      "metadata": {
        "id": "82_XFYnN7lAq"
      },
      "outputs": [],
      "source": []
    }
  ],
  "metadata": {
    "accelerator": "GPU",
    "colab": {
      "collapsed_sections": [],
      "name": "test.ipynb",
      "provenance": []
    },
    "kernelspec": {
      "display_name": "Python 3",
      "name": "python3"
    },
    "language_info": {
      "name": "python"
    }
  },
  "nbformat": 4,
  "nbformat_minor": 0
}
